{
  "cells": [
    {
      "cell_type": "code",
      "execution_count": null,
      "metadata": {
        "id": "YF9-1vdJYdal"
      },
      "outputs": [],
      "source": [
        "import pandas as pd\n",
        "df = pd.read_csv(\"pre.csv\")\n"
      ]
    },
    {
      "cell_type": "code",
      "execution_count": null,
      "metadata": {
        "id": "rZNcHGNg0Rw5"
      },
      "outputs": [],
      "source": [
        "df = df.drop(\"UDI\", axis = 1)\n",
        "df = df.drop(\"Product ID\", axis = 1)\n",
        "\n",
        "df = df.drop(\"Failure Type\", axis = 1)"
      ]
    },
    {
      "cell_type": "code",
      "execution_count": null,
      "metadata": {
        "colab": {
          "base_uri": "https://localhost:8080/",
          "height": 265
        },
        "id": "fI1hKB8WxLFL",
        "outputId": "67d03ba2-5b76-4ee7-c473-efe8288b9e96"
      },
      "outputs": [
        {
          "data": {
            "image/png": "[encoded data removed]",
            "text/plain": [
              "<Figure size 432x288 with 1 Axes>"
            ]
          },
          "metadata": {
            "needs_background": "light"
          },
          "output_type": "display_data"
        }
      ],
      "source": [
        "import matplotlib.pyplot as plt\n",
        "df2 = df.corr()[\"Target\"].plot(kind=\"barh\")\n"
      ]
    },
    {
      "cell_type": "code",
      "execution_count": null,
      "metadata": {
        "colab": {
          "base_uri": "https://localhost:8080/",
          "height": 283
        },
        "id": "iXmiR2Gp9xTO",
        "outputId": "060d3898-0c72-464f-e91b-d2c628108f8f"
      },
      "outputs": [
        {
          "data": {
            "text/plain": [
              "<matplotlib.axes._subplots.AxesSubplot at 0x7fd6a9aa3150>"
            ]
          },
          "execution_count": 4,
          "metadata": {},
          "output_type": "execute_result"
        },
        {
          "data": {
            "image/png": "[encoded data removed]",
            "text/plain": [
              "<Figure size 432x288 with 1 Axes>"
            ]
          },
          "metadata": {
            "needs_background": "light"
          },
          "output_type": "display_data"
        }
      ],
      "source": [
        "df[\"Air temperature [K]\"].plot()"
      ]
    },
    {
      "cell_type": "code",
      "execution_count": null,
      "metadata": {
        "id": "NxOaeYaZpQks"
      },
      "outputs": [],
      "source": [
        "degistir = {'L': 0, 'M': 1, 'H': 2}\n",
        "df['Type'] = df['Type'].map(degistir)\n"
      ]
    },
    {
      "cell_type": "code",
      "execution_count": null,
      "metadata": {
        "id": "GY0UTSMQdKQz"
      },
      "outputs": [],
      "source": [
        "y = df[\"Target\"].values\n",
        "x = df.drop(\"Target\",axis=1).values\n",
        "from sklearn.model_selection import train_test_split\n",
        "x_train, x_test, y_train, y_test = train_test_split(x,y,test_size=0.1,random_state=10)\n"
      ]
    },
    {
      "cell_type": "code",
      "execution_count": null,
      "metadata": {
        "colab": {
          "base_uri": "https://localhost:8080/"
        },
        "id": "m6AxY9v5odaS",
        "outputId": "d2524af9-d007-4929-e5e4-fe2d977d769a"
      },
      "outputs": [
        {
          "name": "stdout",
          "output_type": "stream",
          "text": [
            "Epoch 1/5\n",
            "282/282 [==============================] - 3s 5ms/step - loss: 0.2165 - accuracy: 0.9660 - val_loss: 0.1519 - val_accuracy: 0.9670\n",
            "Epoch 2/5\n",
            "282/282 [==============================] - 1s 3ms/step - loss: 0.1519 - accuracy: 0.9660 - val_loss: 0.1471 - val_accuracy: 0.9670\n",
            "Epoch 3/5\n",
            "282/282 [==============================] - 1s 4ms/step - loss: 0.1441 - accuracy: 0.9660 - val_loss: 0.1411 - val_accuracy: 0.9670\n",
            "Epoch 4/5\n",
            "282/282 [==============================] - 1s 3ms/step - loss: 0.1349 - accuracy: 0.9660 - val_loss: 0.1318 - val_accuracy: 0.9670\n",
            "Epoch 5/5\n",
            "282/282 [==============================] - 1s 3ms/step - loss: 0.1227 - accuracy: 0.9660 - val_loss: 0.1249 - val_accuracy: 0.9670\n"
          ]
        }
      ],
      "source": [
        "from sklearn.preprocessing import MinMaxScaler\n",
        "scaler = MinMaxScaler()\n",
        "x_train = scaler.fit_transform(x_train)\n",
        "x_test = scaler.transform(x_test)\n",
        "from tensorflow.keras.models import Sequential\n",
        "from tensorflow.keras.layers import Dense, Activation\n",
        "\n",
        "from tensorflow import keras\n",
        "model = Sequential()\n",
        "\n",
        "model.add(Dense(12,activation=\"relu\"))\n",
        "\n",
        "model.add(Dense(6,activation=\"relu\"))\n",
        "\n",
        "model.add(Dense(6,activation=\"relu\"))\n",
        "\n",
        "model.add(Dense(6,activation=\"relu\"))\n",
        "\n",
        "model.add(Dense(1,activation=\"sigmoid\"))\n",
        "#bu kod bloğu çok katmanlı yapay sinir ağının oluşturan kod bloğudur\n",
        "\n",
        "\n",
        "from tensorflow.keras.callbacks import EarlyStopping\n",
        "model.compile(loss=\"binary_crossentropy\",optimizer = \"adam\", metrics=[\"accuracy\"])\n",
        "erkendurma = EarlyStopping(monitor=\"val_loss\",mode=\"min\",verbose=1,patience=30)\n",
        "model2 = model.fit(x=x_train, y=y_train, epochs = 5, validation_data = (x_test,y_test), verbose = 1, callbacks=[erkendurma])\n"
      ]
    },
    {
      "cell_type": "code",
      "execution_count": null,
      "metadata": {
        "id": "OsXXrC54SPnS"
      },
      "outputs": [],
      "source": [
        "loss = model.history.history[\"loss\"]\n",
        "a = model.history.history"
      ]
    },
    {
      "cell_type": "code",
      "execution_count": null,
      "metadata": {
        "colab": {
          "base_uri": "https://localhost:8080/",
          "height": 285
        },
        "id": "h8145QzN_qMj",
        "outputId": "0c5fdab9-2958-4cee-acc6-9f3950de9b02"
      },
      "outputs": [
        {
          "data": {
            "text/plain": [
              "<matplotlib.axes._subplots.AxesSubplot at 0x7fd628616410>"
            ]
          },
          "execution_count": 11,
          "metadata": {},
          "output_type": "execute_result"
        },
        {
          "data": {
            "image/png": "[encoded data removed]",
            "text/plain": [
              "<Figure size 432x288 with 1 Axes>"
            ]
          },
          "metadata": {
            "needs_background": "light"
          },
          "output_type": "display_data"
        }
      ],
      "source": [
        "import seaborn as sbn\n",
        "sbn.lineplot(x=range(len(loss)),y=loss)"
      ]
    },
    {
      "cell_type": "code",
      "execution_count": null,
      "metadata": {
        "id": "SdDFGP6odjcG"
      },
      "outputs": [],
      "source": [
        "trainLoss = model.evaluate(x_train,y_train, verbose=0)\n",
        "testLoss = model.evaluate(x_test,y_test,verbose=0)\n"
      ]
    },
    {
      "cell_type": "code",
      "execution_count": null,
      "metadata": {
        "colab": {
          "base_uri": "https://localhost:8080/",
          "height": 285
        },
        "id": "9Vxg6kMDAgWw",
        "outputId": "a920c2ed-00f0-4f21-d917-da6537e3ebe0"
      },
      "outputs": [
        {
          "data": {
            "text/plain": [
              "<matplotlib.axes._subplots.AxesSubplot at 0x7fd628892550>"
            ]
          },
          "execution_count": 13,
          "metadata": {},
          "output_type": "execute_result"
        },
        {
          "data": {
            "image/png": "[encoded data removed]",
            "text/plain": [
              "<Figure size 432x288 with 1 Axes>"
            ]
          },
          "metadata": {
            "needs_background": "light"
          },
          "output_type": "display_data"
        }
      ],
      "source": [
        "import matplotlib.pyplot as plt\n",
        "modelKaybi = pd.DataFrame(a)\n",
        "modelKaybi.plot()"
      ]
    },
    {
      "cell_type": "code",
      "execution_count": null,
      "metadata": {
        "id": "UH8Cm0lno80w"
      },
      "outputs": [],
      "source": [
        "tahminDizisi = model.predict(x_test)\n",
        "tahminDizisi = (tahminDizisi > 0.5)\n",
        "from sklearn.metrics import classification_report,confusion_matrix\n",
        "print(classification_report(y_test,tahminDizisi))\n"
      ]
    },
    {
      "cell_type": "code",
      "execution_count": null,
      "metadata": {
        "colab": {
          "base_uri": "https://localhost:8080/"
        },
        "id": "mtjFiV4kvBQR",
        "outputId": "f2edadef-16fa-40da-df15-7abb40fd83d2"
      },
      "outputs": [
        {
          "name": "stdout",
          "output_type": "stream",
          "text": [
            "[[967   0]\n",
            " [ 33   0]]\n"
          ]
        }
      ],
      "source": [
        "cm = confusion_matrix(y_test,tahminDizisi)\n",
        "print(cm)\n"
      ]
    },
    {
      "cell_type": "code",
      "execution_count": null,
      "metadata": {
        "colab": {
          "base_uri": "https://localhost:8080/"
        },
        "id": "wLQlAPna_I9O",
        "outputId": "2ed6587e-c371-400a-bd12-4669dc75c0b1"
      },
      "outputs": [
        {
          "name": "stderr",
          "output_type": "stream",
          "text": [
            "/usr/local/lib/python3.7/dist-packages/sklearn/metrics/_classification.py:1318: UndefinedMetricWarning: Precision is ill-defined and being set to 0.0 due to no predicted samples. Use `zero_division` parameter to control this behavior.\n",
            "  _warn_prf(average, modifier, msg_start, len(result))\n"
          ]
        },
        {
          "data": {
            "text/plain": [
              "0.0"
            ]
          },
          "execution_count": 16,
          "metadata": {},
          "output_type": "execute_result"
        }
      ],
      "source": [
        "from sklearn.metrics import precision_score\n",
        "\n",
        "precision_score(y_test,tahminDizisi)"
      ]
    },
    {
      "cell_type": "code",
      "execution_count": null,
      "metadata": {
        "colab": {
          "base_uri": "https://localhost:8080/",
          "height": 990
        },
        "id": "KZP5Jtkd4mtm",
        "outputId": "f9f52614-714c-4499-bed7-a31588193157"
      },
      "outputs": [
        {
          "data": {
            "text/html": [
              "\n",
              "  <div id=\"df-40625997-b10d-4d24-80ea-93d6b992cd05\">\n",
              "    <div class=\"colab-df-container\">\n",
              "      <div>\n",
              "<style scoped>\n",
              "    .dataframe tbody tr th:only-of-type {\n",
              "        vertical-align: middle;\n",
              "    }\n",
              "\n",
              "    .dataframe tbody tr th {\n",
              "        vertical-align: top;\n",
              "    }\n",
              "\n",
              "    .dataframe thead th {\n",
              "        text-align: right;\n",
              "    }\n",
              "</style>\n",
              "<table border=\"1\" class=\"dataframe\">\n",
              "  <thead>\n",
              "    <tr style=\"text-align: right;\">\n",
              "      <th></th>\n",
              "      <th>Gerçek</th>\n",
              "      <th>Tahmin</th>\n",
              "    </tr>\n",
              "  </thead>\n",
              "  <tbody>\n",
              "    <tr>\n",
              "      <th>1</th>\n",
              "      <td>Hata Yok</td>\n",
              "      <td>Hata Yok</td>\n",
              "    </tr>\n",
              "    <tr>\n",
              "      <th>2</th>\n",
              "      <td>Hata Yok</td>\n",
              "      <td>Hata Yok</td>\n",
              "    </tr>\n",
              "    <tr>\n",
              "      <th>3</th>\n",
              "      <td>Hata Yok</td>\n",
              "      <td>Hata Yok</td>\n",
              "    </tr>\n",
              "    <tr>\n",
              "      <th>4</th>\n",
              "      <td>Hata Yok</td>\n",
              "      <td>Hata Yok</td>\n",
              "    </tr>\n",
              "    <tr>\n",
              "      <th>5</th>\n",
              "      <td>Hata Yok</td>\n",
              "      <td>Hata Yok</td>\n",
              "    </tr>\n",
              "    <tr>\n",
              "      <th>6</th>\n",
              "      <td>Hata Yok</td>\n",
              "      <td>Hata Yok</td>\n",
              "    </tr>\n",
              "    <tr>\n",
              "      <th>7</th>\n",
              "      <td>Hata Yok</td>\n",
              "      <td>Hata Yok</td>\n",
              "    </tr>\n",
              "    <tr>\n",
              "      <th>8</th>\n",
              "      <td>Hata Yok</td>\n",
              "      <td>Hata Yok</td>\n",
              "    </tr>\n",
              "    <tr>\n",
              "      <th>9</th>\n",
              "      <td>Hata Yok</td>\n",
              "      <td>Hata Yok</td>\n",
              "    </tr>\n",
              "    <tr>\n",
              "      <th>10</th>\n",
              "      <td>Hata Yok</td>\n",
              "      <td>Hata Yok</td>\n",
              "    </tr>\n",
              "    <tr>\n",
              "      <th>11</th>\n",
              "      <td>Hata Var</td>\n",
              "      <td>Hata Yok</td>\n",
              "    </tr>\n",
              "    <tr>\n",
              "      <th>12</th>\n",
              "      <td>Hata Yok</td>\n",
              "      <td>Hata Yok</td>\n",
              "    </tr>\n",
              "    <tr>\n",
              "      <th>13</th>\n",
              "      <td>Hata Yok</td>\n",
              "      <td>Hata Yok</td>\n",
              "    </tr>\n",
              "    <tr>\n",
              "      <th>14</th>\n",
              "      <td>Hata Yok</td>\n",
              "      <td>Hata Yok</td>\n",
              "    </tr>\n",
              "    <tr>\n",
              "      <th>15</th>\n",
              "      <td>Hata Yok</td>\n",
              "      <td>Hata Yok</td>\n",
              "    </tr>\n",
              "    <tr>\n",
              "      <th>16</th>\n",
              "      <td>Hata Yok</td>\n",
              "      <td>Hata Yok</td>\n",
              "    </tr>\n",
              "    <tr>\n",
              "      <th>17</th>\n",
              "      <td>Hata Yok</td>\n",
              "      <td>Hata Yok</td>\n",
              "    </tr>\n",
              "    <tr>\n",
              "      <th>18</th>\n",
              "      <td>Hata Yok</td>\n",
              "      <td>Hata Yok</td>\n",
              "    </tr>\n",
              "    <tr>\n",
              "      <th>19</th>\n",
              "      <td>Hata Yok</td>\n",
              "      <td>Hata Yok</td>\n",
              "    </tr>\n",
              "    <tr>\n",
              "      <th>20</th>\n",
              "      <td>Hata Yok</td>\n",
              "      <td>Hata Yok</td>\n",
              "    </tr>\n",
              "    <tr>\n",
              "      <th>21</th>\n",
              "      <td>Hata Yok</td>\n",
              "      <td>Hata Yok</td>\n",
              "    </tr>\n",
              "    <tr>\n",
              "      <th>22</th>\n",
              "      <td>Hata Yok</td>\n",
              "      <td>Hata Yok</td>\n",
              "    </tr>\n",
              "    <tr>\n",
              "      <th>23</th>\n",
              "      <td>Hata Yok</td>\n",
              "      <td>Hata Yok</td>\n",
              "    </tr>\n",
              "    <tr>\n",
              "      <th>24</th>\n",
              "      <td>Hata Yok</td>\n",
              "      <td>Hata Yok</td>\n",
              "    </tr>\n",
              "    <tr>\n",
              "      <th>25</th>\n",
              "      <td>Hata Yok</td>\n",
              "      <td>Hata Yok</td>\n",
              "    </tr>\n",
              "    <tr>\n",
              "      <th>26</th>\n",
              "      <td>Hata Yok</td>\n",
              "      <td>Hata Yok</td>\n",
              "    </tr>\n",
              "    <tr>\n",
              "      <th>27</th>\n",
              "      <td>Hata Yok</td>\n",
              "      <td>Hata Yok</td>\n",
              "    </tr>\n",
              "    <tr>\n",
              "      <th>28</th>\n",
              "      <td>Hata Yok</td>\n",
              "      <td>Hata Yok</td>\n",
              "    </tr>\n",
              "    <tr>\n",
              "      <th>29</th>\n",
              "      <td>Hata Yok</td>\n",
              "      <td>Hata Yok</td>\n",
              "    </tr>\n",
              "    <tr>\n",
              "      <th>30</th>\n",
              "      <td>Hata Yok</td>\n",
              "      <td>Hata Yok</td>\n",
              "    </tr>\n",
              "  </tbody>\n",
              "</table>\n",
              "</div>\n",
              "      <button class=\"colab-df-convert\" onclick=\"convertToInteractive('df-40625997-b10d-4d24-80ea-93d6b992cd05')\"\n",
              "              title=\"Convert this dataframe to an interactive table.\"\n",
              "              style=\"display:none;\">\n",
              "        \n",
              "  <svg xmlns=\"http://www.w3.org/2000/svg\" height=\"24px\"viewBox=\"0 0 24 24\"\n",
              "       width=\"24px\">\n",
              "    <path d=\"M0 0h24v24H0V0z\" fill=\"none\"/>\n",
              "    <path d=\"M18.56 5.44l.94 2.06.94-2.06 2.06-.94-2.06-.94-.94-2.06-.94 2.06-2.06.94zm-11 1L8.5 8.5l.94-2.06 2.06-.94-2.06-.94L8.5 2.5l-.94 2.06-2.06.94zm10 10l.94 2.06.94-2.06 2.06-.94-2.06-.94-.94-2.06-.94 2.06-2.06.94z\"/><path d=\"M17.41 7.96l-1.37-1.37c-.4-.4-.92-.59-1.43-.59-.52 0-1.04.2-1.43.59L10.3 9.45l-7.72 7.72c-.78.78-.78 2.05 0 2.83L4 21.41c.39.39.9.59 1.41.59.51 0 1.02-.2 1.41-.59l7.78-7.78 2.81-2.81c.8-.78.8-2.07 0-2.86zM5.41 20L4 18.59l7.72-7.72 1.47 1.35L5.41 20z\"/>\n",
              "  </svg>\n",
              "      </button>\n",
              "      \n",
              "  <style>\n",
              "    .colab-df-container {\n",
              "      display:flex;\n",
              "      flex-wrap:wrap;\n",
              "      gap: 12px;\n",
              "    }\n",
              "\n",
              "    .colab-df-convert {\n",
              "      background-color: #E8F0FE;\n",
              "      border: none;\n",
              "      border-radius: 50%;\n",
              "      cursor: pointer;\n",
              "      display: none;\n",
              "      fill: #1967D2;\n",
              "      height: 32px;\n",
              "      padding: 0 0 0 0;\n",
              "      width: 32px;\n",
              "    }\n",
              "\n",
              "    .colab-df-convert:hover {\n",
              "      background-color: #E2EBFA;\n",
              "      box-shadow: 0px 1px 2px rgba(60, 64, 67, 0.3), 0px 1px 3px 1px rgba(60, 64, 67, 0.15);\n",
              "      fill: #174EA6;\n",
              "    }\n",
              "\n",
              "    [theme=dark] .colab-df-convert {\n",
              "      background-color: #3B4455;\n",
              "      fill: #D2E3FC;\n",
              "    }\n",
              "\n",
              "    [theme=dark] .colab-df-convert:hover {\n",
              "      background-color: #434B5C;\n",
              "      box-shadow: 0px 1px 3px 1px rgba(0, 0, 0, 0.15);\n",
              "      filter: drop-shadow(0px 1px 2px rgba(0, 0, 0, 0.3));\n",
              "      fill: #FFFFFF;\n",
              "    }\n",
              "  </style>\n",
              "\n",
              "      <script>\n",
              "        const buttonEl =\n",
              "          document.querySelector('#df-40625997-b10d-4d24-80ea-93d6b992cd05 button.colab-df-convert');\n",
              "        buttonEl.style.display =\n",
              "          google.colab.kernel.accessAllowed ? 'block' : 'none';\n",
              "\n",
              "        async function convertToInteractive(key) {\n",
              "          const element = document.querySelector('#df-40625997-b10d-4d24-80ea-93d6b992cd05');\n",
              "          const dataTable =\n",
              "            await google.colab.kernel.invokeFunction('convertToInteractive',\n",
              "                                                     [key], {});\n",
              "          if (!dataTable) return;\n",
              "\n",
              "          const docLinkHtml = 'Like what you see? Visit the ' +\n",
              "            '<a target=\"_blank\" href=https://colab.research.google.com/notebooks/data_table.ipynb>data table notebook</a>'\n",
              "            + ' to learn more about interactive tables.';\n",
              "          element.innerHTML = '';\n",
              "          dataTable['output_type'] = 'display_data';\n",
              "          await google.colab.output.renderOutput(dataTable, element);\n",
              "          const docLink = document.createElement('div');\n",
              "          docLink.innerHTML = docLinkHtml;\n",
              "          element.appendChild(docLink);\n",
              "        }\n",
              "      </script>\n",
              "    </div>\n",
              "  </div>\n",
              "  "
            ],
            "text/plain": [
              "      Gerçek    Tahmin\n",
              "1   Hata Yok  Hata Yok\n",
              "2   Hata Yok  Hata Yok\n",
              "3   Hata Yok  Hata Yok\n",
              "4   Hata Yok  Hata Yok\n",
              "5   Hata Yok  Hata Yok\n",
              "6   Hata Yok  Hata Yok\n",
              "7   Hata Yok  Hata Yok\n",
              "8   Hata Yok  Hata Yok\n",
              "9   Hata Yok  Hata Yok\n",
              "10  Hata Yok  Hata Yok\n",
              "11  Hata Var  Hata Yok\n",
              "12  Hata Yok  Hata Yok\n",
              "13  Hata Yok  Hata Yok\n",
              "14  Hata Yok  Hata Yok\n",
              "15  Hata Yok  Hata Yok\n",
              "16  Hata Yok  Hata Yok\n",
              "17  Hata Yok  Hata Yok\n",
              "18  Hata Yok  Hata Yok\n",
              "19  Hata Yok  Hata Yok\n",
              "20  Hata Yok  Hata Yok\n",
              "21  Hata Yok  Hata Yok\n",
              "22  Hata Yok  Hata Yok\n",
              "23  Hata Yok  Hata Yok\n",
              "24  Hata Yok  Hata Yok\n",
              "25  Hata Yok  Hata Yok\n",
              "26  Hata Yok  Hata Yok\n",
              "27  Hata Yok  Hata Yok\n",
              "28  Hata Yok  Hata Yok\n",
              "29  Hata Yok  Hata Yok\n",
              "30  Hata Yok  Hata Yok"
            ]
          },
          "execution_count": 17,
          "metadata": {},
          "output_type": "execute_result"
        }
      ],
      "source": [
        "y_df = pd.DataFrame(y_test)\n",
        "t_df = pd.Series(tahminDizisi.reshape(1000,))\n",
        "yeni = pd.concat([y_df,t_df], axis = 1)\n",
        "yeni.columns = [\"Gerçek\",\"Tahmin\"]\n",
        "\n",
        "yeni[\"Tahmin\"] = t_df.astype(int)\n",
        "\n",
        "yeni[\"Gerçek\"] = yeni[\"Gerçek\"].map({0:\"Hata Yok\", 1:\"Hata Var\"})\n",
        "yeni[\"Tahmin\"] = yeni[\"Tahmin\"].map({0:\"Hata Yok\", 1:\"Hata Var\"})\n",
        "\n",
        "import numpy as np\n",
        "yeni = yeni.shift()[1:]\n",
        "yeni.iloc[0:30]\n"
      ]
    },
    {
      "cell_type": "code",
      "execution_count": null,
      "metadata": {
        "id": "JYXmhn5gGror"
      },
      "outputs": [],
      "source": []
    }
  ],
  "metadata": {
    "colab": {
      "provenance": []
    },
    "kernelspec": {
      "display_name": "Python 3",
      "name": "python3"
    },
    "language_info": {
      "name": "python"
    }
  },
  "nbformat": 4,
  "nbformat_minor": 0
}
